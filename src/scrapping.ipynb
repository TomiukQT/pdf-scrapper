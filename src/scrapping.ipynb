{
 "cells": [
  {
   "cell_type": "markdown",
   "metadata": {
    "pycharm": {
     "name": "#%% md\n"
    }
   },
   "source": [
    "## 1) Stažení dat\n",
    "\n",
    " * funkce `request_page(id,first)` stáhne data o hlasování \n",
    "    ze stránky `https://www.psp.cz/sqw/hlasy.sqw?g={voting_id}`  s 'voting_id=id'\n",
    " * budeme iterovat přes všechny hlasování tj. `range(first, 73901)` \n"
   ]
  },
  {
   "cell_type": "code",
   "execution_count": 3,
   "metadata": {
    "pycharm": {
     "name": "#%%\n"
    }
   },
   "outputs": [],
   "source": [
    "### imports\n",
    "import requests\n",
    "from bs4 import BeautifulSoup\n",
    "import re\n",
    "import pandas as pd\n",
    "import time\n",
    "import urllib\n",
    "import os\n",
    "\n",
    "\n",
    "#import fitz\n",
    "from pdfminer.converter import TextConverter\n",
    "from pdfminer.layout import LAParams\n",
    "from pdfminer.pdfdocument import PDFDocument\n",
    "from pdfminer.pdfinterp import PDFResourceManager, PDFPageInterpreter\n",
    "from pdfminer.pdfpage import PDFPage\n",
    "from pdfminer.pdfparser import PDFParser\n",
    "from io import StringIO\n",
    "\n",
    "from datetime import date"
   ]
  },
  {
   "cell_type": "code",
   "execution_count": 2,
   "metadata": {
    "pycharm": {
     "name": "#%%\n"
    }
   },
   "outputs": [],
   "source": [
    "### flow ###\n",
    "#pdfs = get_downloads()\n",
    "#new_pdfs = download_new_files(pdfs)\n",
    "#get_resolutions(new_pdfs)"
   ]
  },
  {
   "cell_type": "code",
   "execution_count": null,
   "metadata": {
    "pycharm": {
     "name": "#%%\n"
    }
   },
   "outputs": [],
   "source": [
    "def request_pdf_single(folder,url,page,file_prefix):\n",
    "    full_url = f'{url}{page}'\n",
    "    print(f\"requesting data from: {full_url}\")\n",
    "    resp = requests.get(full_url)\n",
    "    resp.encoding='utf-8'\n",
    "    \n",
    "    soup = BeautifulSoup(resp.content,from_encoding=\"utf-8\")\n",
    "    \n",
    "    prefix = \"https://www.novarole.cz/\"\n",
    "    \n",
    "    \n",
    "    for i,l in enumerate(soup.find_all(\"a\", class_=\"file\")):\n",
    "        link = l.get('href')\n",
    "        if \"file_storage\" in link:\n",
    "            #print(l.get('download'))\n",
    "            r = requests.get(f'{prefix}{link}', allow_redirects=True)\n",
    "            file_name = l.get('download')\n",
    "            path = f'data/{folder}/{file_prefix:03d}_{file_name}'\n",
    "            if os.path.exists(path):\n",
    "                file_prefix += 1\n",
    "                continue\n",
    "            file_prefix += 1\n",
    "            open(path, 'wb').write(r.content)\n",
    "            \n",
    "            #urllib.request.urlretrieve(f'{prefix}{link}', f'/data/{i}.pdf')\n",
    "    return file_prefix\n",
    "\n",
    "def request_pdf(folder,url, first, last ,file_prefix = 0):\n",
    "    if not os.path.exists(f'data/{folder}'):\n",
    "        os.makedirs(f'data/{folder}')\n",
    "    for i in range(first,last+1):\n",
    "        file_prefix = request_pdf_single(folder,url,i,file_prefix)\n",
    "        time.sleep(1)"
   ]
  },
  {
   "cell_type": "code",
   "execution_count": null,
   "metadata": {
    "pycharm": {
     "name": "#%%\n"
    }
   },
   "outputs": [],
   "source": [
    "request_pdf(\"rme\",\"https://www.novarole.cz/samosprava/rada-mesta/usneseni-rady-mesta/?page=\",1,8)\n",
    "request_pdf(\"zme\",\"https://www.novarole.cz/samosprava/zastupitelstvo-mesta/zapisy-z-jednani-zastupitelstva/?page=\",1,5)"
   ]
  },
  {
   "cell_type": "code",
   "execution_count": 4,
   "metadata": {
    "pycharm": {
     "name": "#%%\n"
    },
    "scrolled": true
   },
   "outputs": [],
   "source": [
    "def extract_information(pdf_path):\n",
    "    with fitz.open(pdf_path) as doc:\n",
    "        text = \"\"\n",
    "        for page in doc:\n",
    "            for blk in page.getTextBlocks():\n",
    "                print(blk)\n",
    "                print()\n",
    "    return text\n",
    "\n",
    "def text_from_page(page):\n",
    "    bloks = page.getTextBlocks()\n",
    "    text = [blk[4].replace(\"\\n\", \" \") for blk in bloks]\n",
    "    return \"\\r\\n\".join(text)"
   ]
  },
  {
   "cell_type": "code",
   "execution_count": 4,
   "metadata": {
    "pycharm": {
     "name": "#%%\n"
    }
   },
   "outputs": [],
   "source": [
    "class Resolution:\n",
    "    def __init__(self, name:str, published:date, text:str, result:str):\n",
    "        self.name = name\n",
    "        self.published = published\n",
    "        self.text = text\n",
    "        self.result = result\n",
    "        \n",
    "    def __str__(self):\n",
    "        return f'>>> {self.name} <<<\\n {self.text} \\n\\n Result{self.result}'\n",
    "    \n",
    "    def parse_result(self):\n",
    "        return\n",
    "        "
   ]
  },
  {
   "cell_type": "code",
   "execution_count": 5,
   "metadata": {
    "pycharm": {
     "name": "#%%\n"
    }
   },
   "outputs": [],
   "source": [
    "def extract_text(pdf_path):\n",
    "    output_string = StringIO()\n",
    "    with open(pdf_path, 'rb') as in_file:\n",
    "        parser = PDFParser(in_file)\n",
    "        doc = PDFDocument(parser)\n",
    "        rsrcmgr = PDFResourceManager()\n",
    "        device = TextConverter(rsrcmgr, output_string, laparams=LAParams())\n",
    "        interpreter = PDFPageInterpreter(rsrcmgr, device)\n",
    "        for page in PDFPage.create_pages(doc):\n",
    "            interpreter.process_page(page)\n",
    "\n",
    "    return output_string.getvalue()"
   ]
  },
  {
   "cell_type": "code",
   "execution_count": 6,
   "metadata": {
    "pycharm": {
     "name": "#%%\n"
    }
   },
   "outputs": [],
   "source": [
    "class ResolutionZme(Resolution):\n",
    "    def __init__(self, name:str, published:date, text:str, result:str, category:str, attendance):\n",
    "        super().__init__(name,published,text,result)\n",
    "        self.category = category\n",
    "        self.attendance = attendance\n",
    "        \n",
    "    def __str__(self):\n",
    "        return super().__str__() + f' :::{self.category}'\n",
    "\n",
    "\n",
    "\n",
    "def parse_zme_format(lines, debug = False):\n",
    "    date_pub = parse_new_date(lines[2])\n",
    "    resolutions = []\n",
    "    name = \"\"\n",
    "    header = \"\"\n",
    "    restext = \"\"\n",
    "    result = \"\"\n",
    "    \n",
    "    attendance = []\n",
    "    category = ''\n",
    "    \n",
    "    mode =\"init\"\n",
    "    scanning = True\n",
    "    for line in lines:\n",
    "        if debug:\n",
    "            print(f\">>>{line}\")\n",
    "        if re.search(r'^Omluven[aiy]*:',line) and mode == \"init\":\n",
    "            attendance = parse_attendance(line)\n",
    "            mode = \"firstscan\"\n",
    "            continue\n",
    "        if mode == \"firstscan\" and re.search(r'^[0-9]*/03',line):\n",
    "            category = line\n",
    "            mode = \"name\"\n",
    "            continue\n",
    "        if mode == \"scan\":\n",
    "            if re.search(r'^[0-9]+/[0-9]+',line):\n",
    "                category = line\n",
    "                mode = \"name\"\n",
    "                continue\n",
    "            else:\n",
    "                category = \"Unknown\"\n",
    "                mode = \"name\"\n",
    "        if mode == \"name\":\n",
    "            if re.search('^ZMě/',line):\n",
    "                name = line\n",
    "                mode = \"name2\"\n",
    "                continue\n",
    "            else:\n",
    "                mode = \"text\"\n",
    "        if mode == \"name2\":\n",
    "            name += f' -- {line}'\n",
    "            mode = \"text\"\n",
    "            continue\n",
    "        if mode == \"text\" and re.search(r'^Usnesení ',line):\n",
    "            mode =\"result\"\n",
    "        if mode == \"result\":\n",
    "            result = line\n",
    "            mode = \"scan\"\n",
    "            resolutions.append(ResolutionZme(name,date_pub,restext,result,category,attendance))\n",
    "            restext = \"\"\n",
    "            continue\n",
    "        if mode == \"text\":\n",
    "            restext += line.strip()\n",
    "    return resolutions"
   ]
  },
  {
   "cell_type": "code",
   "execution_count": 7,
   "metadata": {
    "pycharm": {
     "name": "#%%\n"
    }
   },
   "outputs": [],
   "source": [
    "def parse_new_date(date_line):\n",
    "    date_r = re.search(r'[1-3]*[0-9]. [1]*[0-9]. 20[1-3][0-9]',date_line)\n",
    "    date_text = date_r.group(0)\n",
    "    date_p = re.findall(r'\\d+',date_text)\n",
    "    return date.fromisoformat(f'{int(date_p[2])}-{int(date_p[1]):02d}-{int(date_p[0]):02d}')"
   ]
  },
  {
   "cell_type": "code",
   "execution_count": 8,
   "metadata": {
    "pycharm": {
     "name": "#%%\n"
    }
   },
   "outputs": [],
   "source": [
    "representatives = [\"Pokorná\", \"Krbcová\", \"Nesybová\", \"Dušková\", \"Tichá\", \n",
    "                   \"Škarda\", \"Sýkora\", \"Bartoň\", \"Švec\", \"Pastor\", \"Slíž\",\n",
    "                   \"Pavlíček\", \"Niedermertl\", \"Cinegr\", \"Kvapil\"]"
   ]
  },
  {
   "cell_type": "code",
   "execution_count": 9,
   "metadata": {
    "pycharm": {
     "name": "#%%\n"
    }
   },
   "outputs": [],
   "source": [
    "def parse_attendance(text):\n",
    "    attendance = []\n",
    "    words = re.findall('\\w+', text, re.UNICODE)\n",
    "    for word in words:\n",
    "        if word in representatives:\n",
    "            attendance.append(word)\n",
    "    return attendance"
   ]
  },
  {
   "cell_type": "code",
   "execution_count": 62,
   "metadata": {
    "pycharm": {
     "name": "#%%\n"
    }
   },
   "outputs": [],
   "source": [
    "def parse_result(text, attendance):\n",
    "    active = [x for x in representatives if x not in attendance]\n",
    "    result = dict.fromkeys(representatives, \"?\")\n",
    "    \n",
    "    yes = 0\n",
    "    no = 0\n",
    "    neutral = 0\n",
    "    missing = 0\n",
    "    \n",
    "    if re.search(r'^Usnesení schváleno',text):\n",
    "        yes = int(text.split(' ')[3])\n",
    "    #Nekdo se zdrzel nebo hlasoval proti:    \n",
    "    if ',' in text:\n",
    "        tokens = re.findall(r'\\d \\w+',text,re.UNICODE)\n",
    "        votings = re.findall(r'\\([^)]+\\)',text,re.UNICODE)\n",
    "        \n",
    "        i = 0\n",
    "        for s in tokens[1:]:\n",
    "            split = s.split(' ')\n",
    "            print(split)\n",
    "            if split[1] == 'se':\n",
    "                neutral = int(split[0])\n",
    "                set_result(result,'Zdrzel',votings[i])\n",
    "            elif split[1] == 'nepřítomen':\n",
    "                missing = int(split[0])\n",
    "                set_result(result,'Nepritomen',votings[i])\n",
    "            elif split[1] == 'proti':\n",
    "                no = int[split[0]]\n",
    "                set_result(result,'Proti',votings[i])\n",
    "            else:\n",
    "                continue\n",
    "            i += 1\n",
    "        \n",
    "        print(active)\n",
    "        for a in active:\n",
    "            if result[a] == \"?\":\n",
    "                result[a] = \"Pro\"\n",
    "        \n",
    "    print(f'Y:{yes}, N:{no}, Z:{neutral}, M:{missing}')\n",
    "    print(result)\n",
    "        \n",
    "def set_result(results, to, text):\n",
    "    tokens = re.findall(r'\\w+',text,re.UNICODE)\n",
    "    for s in tokens:\n",
    "        if s in results.keys():\n",
    "            results[s] = to"
   ]
  },
  {
   "cell_type": "code",
   "execution_count": 63,
   "metadata": {
    "pycharm": {
     "name": "#%%\n"
    }
   },
   "outputs": [],
   "source": [
    "def result_tostr(results):\n",
    "    return ''"
   ]
  },
  {
   "cell_type": "code",
   "execution_count": 64,
   "metadata": {
    "pycharm": {
     "name": "#%%\n"
    }
   },
   "outputs": [
    {
     "name": "stdout",
     "output_type": "stream",
     "text": [
      "['3', 'se']\n",
      "['Pokorná', 'Nesybová', 'Dušková', 'Tichá', 'Škarda', 'Sýkora', 'Bartoň', 'Švec', 'Pastor', 'Slíž', 'Pavlíček', 'Niedermertl', 'Cinegr', 'Kvapil']\n",
      "Y:11, N:0, Z:3, M:0\n",
      "{'Pokorná': 'Pro', 'Krbcová': '?', 'Nesybová': 'Pro', 'Dušková': 'Pro', 'Tichá': 'Pro', 'Škarda': 'Zdrzel', 'Sýkora': 'Pro', 'Bartoň': 'Pro', 'Švec': 'Pro', 'Pastor': 'Zdrzel', 'Slíž': 'Zdrzel', 'Pavlíček': 'Pro', 'Niedermertl': 'Pro', 'Cinegr': 'Pro', 'Kvapil': 'Pro'}\n"
     ]
    }
   ],
   "source": [
    "path = 'Zápis 26. ZMě 20. 4. 2022.pdf'\n",
    "\n",
    "\n",
    "\n",
    "\n",
    "#print(date)\n",
    "#resolutions = []\n",
    "text = extract_text(path)\n",
    "\n",
    "lines = text.splitlines();\n",
    "while '' in lines:\n",
    "    lines.remove('')\n",
    "while ' ' in lines:\n",
    "    lines.remove(' ')\n",
    "\n",
    "#date = parse_new_date(lines[1])\n",
    "#print(date)\n",
    "#for s in lines:\n",
    "    #print(f'>>>{s}')\n",
    "\n",
    "res = parse_zme_format(lines)\n",
    "\n",
    "\n",
    "r = res[10]\n",
    "parse_result(r.result,r.attendance)\n",
    "#for r in res:\n",
    "    \n",
    "    #print(r.published)\n",
    "    #print('-===-==-===-')\n"
   ]
  },
  {
   "cell_type": "code",
   "execution_count": 54,
   "metadata": {
    "pycharm": {
     "name": "#%%\n"
    }
   },
   "outputs": [],
   "source": [
    "def parse_attendance(text):\n",
    "    attendance = []\n",
    "    words = re.findall('\\w+', text, re.UNICODE)\n",
    "    for word in words:\n",
    "        if word in representatives:\n",
    "            attendance.append(word)\n",
    "    return attendance"
   ]
  },
  {
   "cell_type": "code",
   "execution_count": 55,
   "metadata": {
    "pycharm": {
     "name": "#%%\n"
    }
   },
   "outputs": [],
   "source": [
    "def parse_result(text, attendance):\n",
    "    active = [x for x in representatives if x not in attendance]\n",
    "    result = dict.fromkeys(representatives, \"?\")\n",
    "    if re.search(r'^Usnesení schváleno',text):\n",
    "        yes = int(text.split(' ')[3])\n",
    "    #Nekdo se zdrzel nebo hlasoval proti:    \n",
    "    if ',' in text:\n",
    "        tokens = re.findall(r'\\d \\w+',text,re.UNICODE)\n",
    "        for s in tokens[1:]:\n",
    "            print(s)\n",
    "        \n",
    "            \n",
    "        \n",
    "# \\([^)]*\\) -- zavorky   "
   ]
  },
  {
   "cell_type": "code",
   "execution_count": 18,
   "metadata": {
    "pycharm": {
     "name": "#%%\n"
    }
   },
   "outputs": [],
   "source": [
    "def result_tostr(results):\n",
    "    return ''"
   ]
  },
  {
   "cell_type": "code",
   "execution_count": 20,
   "metadata": {
    "pycharm": {
     "name": "#%%\n"
    }
   },
   "outputs": [
    {
     "name": "stdout",
     "output_type": "stream",
     "text": [
      "3 se\n"
     ]
    }
   ],
   "source": [
    "path = 'Zápis 26. ZMě 20. 4. 2022.pdf'\n",
    "\n",
    "\n",
    "\n",
    "\n",
    "#print(date)\n",
    "#resolutions = []\n",
    "text = extract_text(path)\n",
    "\n",
    "lines = text.splitlines();\n",
    "while '' in lines:\n",
    "    lines.remove('')\n",
    "while ' ' in lines:\n",
    "    lines.remove(' ')\n",
    "\n",
    "#date = parse_new_date(lines[1])\n",
    "#print(date)\n",
    "#for s in lines:\n",
    "    #print(f'>>>{s}')\n",
    "\n",
    "res = parse_zme_format(lines)\n",
    "\n",
    "\n",
    "r = res[10]\n",
    "parse_result(r.result,r.attendance)\n",
    "#for r in res:\n",
    "    \n",
    "    #print(r.published)\n",
    "    #print('-===-==-===-')\n"
   ]
  },
  {
   "cell_type": "code",
   "execution_count": null,
   "metadata": {
    "pycharm": {
     "name": "#%%\n"
    }
   },
   "outputs": [],
   "source": [
    "def request_page(id,first):\n",
    "    voting_id = id\n",
    "    url = f'https://www.psp.cz/sqw/hlasy.sqw?g={voting_id}&'\n",
    "    resp = requests.get(url)\n",
    "    resp.encoding='cp1250'\n",
    "    soup = BeautifulSoup(resp.content,from_encoding=\"cp1250\")\n",
    "\n",
    "    # M - Omlouven\n",
    "    # A/N ano/ne\n",
    "    # Z - zdržel se\n",
    "    # 0 - nepřihlášen\n",
    "    d = {'voting_id': [],'voting_name': [], 'party': [],'name': [], 'voting':[]}\n",
    "\n",
    "    name = re.split(\"..:..\",soup.html.body.h1.text)\n",
    "    #print(name[-1]) #jméno halsování\n",
    "    soup.text[0:3000]\n",
    "    soup.html.body\n",
    "    #soup.find_all('li')[0].text\n",
    "    #re.split(\"[ \\xa0]\",soup.find_all('li')[0].text) # hlasování jednotlivce\n",
    "    re.split(\" \",soup.find_all('h2')[2].text)[0]#strana\n",
    "\n",
    "    parties = dict()\n",
    "    parties_names = list()\n",
    "\n",
    "\n",
    "    #print(soup.find_all('h2')[2])\n",
    "    for i in soup.find_all('h2')[1:-2]:\n",
    "        party_header = str(re.split(\" \\(\",i.text)[0])#od 1 po -2\n",
    "        party_sum_text = str(re.split(\" \\(\",i.text)[1])\n",
    "        re.split(\"A |0 |N |M |Z \",party_sum_text) #souhrn po stranách\n",
    "        party_sum = re.split(\"A |0 |N |M |Z \",party_sum_text)\n",
    "        party_sum = party_sum[1:]\n",
    "        party_sum = [re.findall(\"[0-9]+\",s) for s in party_sum]\n",
    "        party_sum = [int(x[0]) for x in party_sum]\n",
    "        party_sum = sum(party_sum)\n",
    "        #print(f'{party_header}:{party_sum}')\n",
    "        parties[party_header] = party_sum\n",
    "        parties_names.append(party_header)\n",
    "    #re.findall(\"[0-9]+\",soup.find_all('h2')[2].text)\n",
    "\n",
    "\n",
    "    curr_party = 0\n",
    "    curr_person = 0\n",
    "    #soup.html.body\n",
    "    for i in range(200):\n",
    "        person_voting = re.split(\"[ \\xa0]\",soup.find_all('li')[i].text)[0]\n",
    "        person_name = re.split(\"A |0 |N |M |Z \",soup.find_all('li')[i].text)[1]\n",
    "        #print(f'{person_name} hlasoval/a: {person_voting}')\n",
    "        if(curr_person >= parties[parties_names[curr_party]]):\n",
    "            curr_person = 0\n",
    "            curr_party+=1\n",
    "        curr_person+=1\n",
    "        d['voting_id'].append(voting_id)\n",
    "        d['voting_name'].append(name[-1])\n",
    "        d['party'].append(parties_names[curr_party])\n",
    "        d['name'].append(person_name)\n",
    "        d['voting'].append(person_voting)\n",
    "        #\n",
    "    df = pd.DataFrame(data=d)\n",
    "    if(voting_id == first):\n",
    "        df.to_csv('test.csv',mode='w',header = True)\n",
    "    else:\n",
    "        df.to_csv('test.csv',mode='a',header = False)\n",
    "    if voting_id%100 == 0:\n",
    "        print(f'id:{voting_id} downloaded')\n",
    "    time.sleep(1)"
   ]
  },
  {
   "cell_type": "code",
   "execution_count": null,
   "metadata": {
    "pycharm": {
     "name": "#%%\n"
    }
   },
   "outputs": [],
   "source": [
    "first = 67018\n",
    "last = 73901\n",
    "\n",
    "\n",
    "for i in range(68548, last):\n",
    "    request_page(i,first)"
   ]
  },
  {
   "cell_type": "markdown",
   "metadata": {
    "pycharm": {
     "name": "#%% md\n"
    }
   },
   "source": [
    "## 2)Vizualizace\n",
    "\n",
    " *  "
   ]
  },
  {
   "cell_type": "code",
   "execution_count": null,
   "metadata": {
    "pycharm": {
     "name": "#%%\n"
    }
   },
   "outputs": [],
   "source": [
    "import numpy as np\n",
    "import pandas as pd\n",
    "import sklearn as skit\n",
    "import matplotlib.pyplot as plt\n",
    "import matplotlib\n",
    "import seaborn as sns\n",
    "import re\n",
    "from matplotlib.sankey import Sankey\n",
    "\n",
    "\n",
    "%matplotlib inline \n",
    "matplotlib.style.use('ggplot')"
   ]
  },
  {
   "cell_type": "code",
   "execution_count": null,
   "metadata": {
    "pycharm": {
     "name": "#%%\n"
    }
   },
   "outputs": [],
   "source": [
    "data = pd.read_csv('data.csv')\n",
    "\n",
    "\n",
    "parties = dict()\n",
    "n = \"\"\n",
    "m = \"\"\n",
    "for index,row in data.iterrows():\n",
    "    if not row.get(\"party\") in parties:\n",
    "        parties[row.get(\"party\")] = set()\n",
    "    name = re.sub(\"\\xa0\", \" \",row.get(\"name\"))\n",
    "    name = re.split('\\(',name)[0]\n",
    "    parties[row.get(\"party\")].add(name)\n",
    "#print(parties)"
   ]
  },
  {
   "cell_type": "markdown",
   "metadata": {
    "pycharm": {
     "name": "#%% md\n"
    }
   },
   "source": [
    "#  Docházka poslanců\n",
    "\n",
    " * a) Docházka jednotlivých poslanců -> 5 min a 5 max\n"
   ]
  },
  {
   "cell_type": "code",
   "execution_count": null,
   "metadata": {
    "pycharm": {
     "name": "#%%\n"
    }
   },
   "outputs": [],
   "source": [
    "#display(data.head(2))\n",
    "#data['party']\n",
    "#data[data['party'] == 'ODS'].head(100)\n",
    "\n",
    "missing = data[data['voting'] == 'M']\n",
    "grouped = missing.groupby(by=['name'])\n",
    "\n",
    "missingbyNames = list()\n",
    "\n",
    "for name,group in grouped:\n",
    "    name = re.sub(\"\\xa0\", \" \", name)\n",
    "    missingbyNames.append((name, len(group),\"MAX\"))\n",
    "missingbyNames = sorted(missingbyNames, key=lambda tup: tup[1])\n",
    "\n",
    "missingbyNamesList = [(x[0],x[1],\"MIN\") for x in missingbyNames[:5]]\n",
    "#missingbyNamesList += missingbyNames[-5:]\n",
    "#print(missingbyNamesList)\n",
    "\n",
    "f, (ax1, ax2) = plt.subplots(1, 2, figsize=(20,3))\n",
    "ax1.set(ylim=(0, 100))\n",
    "df = pd.DataFrame(missingbyNamesList, columns = ['Name', 'Missing', 'Group'])\n",
    "#display(df.head())\n",
    "g = sns.barplot(x=df['Name'],y =df['Missing'], ax = ax1)\n",
    "g.set_title('Min')\n",
    "ax=g\n",
    "\n",
    "#annotate axis\n",
    "for p in ax.patches:\n",
    "             ax.annotate(\"%.2f\" % p.get_height(), (p.get_x() + p.get_width() / 2., p.get_height()),\n",
    "                 ha='center', va='center', fontsize=11, color='gray', xytext=(0, 20),\n",
    "                 textcoords='offset points')\n",
    "\n",
    "\n",
    "df = pd.DataFrame(missingbyNames[-5:], columns = ['Name', 'Missing', 'Group'])\n",
    "g = sns.barplot(x=df['Name'],y =df['Missing'], ax = ax2)\n",
    "g.set_title('Max')\n",
    "ax=g\n",
    "#annotate axis\n",
    "for p in ax.patches:\n",
    "             ax.annotate(\"%i\" % p.get_height(), (p.get_x() + p.get_width() / 2., p.get_height()),\n",
    "                 ha='center', va='center', fontsize=11, color='gray', xytext=(0, 20),\n",
    "                 textcoords='offset points')\n",
    "\n",
    "#plt.show()\n",
    "\n"
   ]
  },
  {
   "cell_type": "markdown",
   "metadata": {
    "pycharm": {
     "name": "#%% md\n"
    }
   },
   "source": [
    "#  Docházka poslanců\n",
    "\n",
    " * b) Docházka jednotlivých stran tj. průměrná absence na poslance ve straně"
   ]
  },
  {
   "cell_type": "code",
   "execution_count": null,
   "metadata": {
    "pycharm": {
     "name": "#%%\n"
    }
   },
   "outputs": [],
   "source": [
    "#display(data.head(2))\n",
    "#data['party']\n",
    "#data[data['party'] == 'ODS'].head(100)\n",
    "\n",
    "missing = data[data['voting'] == 'M']\n",
    "grouped = missing.groupby(by=['party'])\n",
    "\n",
    "missingbyParty = list()\n",
    "\n",
    "for party,group in grouped:\n",
    "    missingbyParty.append((party, len(group)/len(parties[party])))\n",
    "    missingbyParty = sorted(missingbyParty, key=lambda tup: tup[1])\n",
    "    \n",
    "\n",
    "#missingbyNamesList += missingbyNames[-5:]\n",
    "#print(missingbyParty)\n",
    "\n",
    "\n",
    "df = pd.DataFrame(missingbyParty, columns = ['Name', 'Missing'])\n",
    "plt.figure(figsize=(20,5))\n",
    "g = sns.barplot(x=df['Name'],y =df['Missing'])\n",
    "g.set_title('average missing per person in party')\n",
    "ax=g\n",
    "\n",
    "#annotate axis\n",
    "for p in ax.patches:\n",
    "             ax.annotate(\"%i\" % p.get_height(), (p.get_x() + p.get_width() / 2., p.get_height()),\n",
    "                 ha='center', va='center', fontsize=11, color='gray', xytext=(0, 20),\n",
    "                 textcoords='offset points')\n",
    "plt.show()"
   ]
  },
  {
   "cell_type": "markdown",
   "metadata": {
    "pycharm": {
     "name": "#%% md\n"
    }
   },
   "source": [
    "#  Přeběhnutí poslanci\n",
    "\n",
    " *  Grafické znázornění 'přebíhání' poslanců mezi stranami. Šipky zezhora znázorňují příchozí poslance a šipky zdezdola znázorňují odchozí"
   ]
  },
  {
   "cell_type": "code",
   "execution_count": null,
   "metadata": {
    "pycharm": {
     "name": "#%%\n"
    }
   },
   "outputs": [],
   "source": [
    "data = pd.read_csv('data.csv')\n",
    "\n",
    "colors = {'ODS' : 'blue',\n",
    "          'ČSSD' : 'orange',\n",
    "          'SPD' : 'brown',\n",
    "          'Nezařaz' : 'white'\n",
    "         }\n",
    "\n",
    "\n",
    "partyPerName = dict()\n",
    "first = True\n",
    "for index,row in data.iterrows():\n",
    "    name = re.sub(\"\\xa0\", \" \",row.get(\"name\"))\n",
    "    name = re.split('\\(',name)[0]\n",
    "    party = row.get(\"party\")\n",
    "    if not name in partyPerName:\n",
    "        partyPerName[name] = list()\n",
    "    if not party in partyPerName[name]:\n",
    "        partyPerName[name].append(party)\n",
    "    "
   ]
  },
  {
   "cell_type": "code",
   "execution_count": null,
   "metadata": {
    "pycharm": {
     "name": "#%%\n"
    }
   },
   "outputs": [],
   "source": [
    "traitors = dict()\n",
    "for key,value in partyPerName.items():\n",
    "    if len(value) > 1:\n",
    "        traitors[key] = value\n",
    "\n",
    "    \n",
    "\n",
    "incoming = dict()\n",
    "departing = dict()\n",
    "\n",
    "for key,value in traitors.items():\n",
    "    for x in value[1:]:\n",
    "        if not x in incoming:\n",
    "            incoming[x] = set()\n",
    "        incoming[x].add(key)\n",
    "    for x in value[:-1]:\n",
    "        if not x in departing:\n",
    "            departing[x] = set()\n",
    "        departing[x].add(key)\n",
    "        \n",
    "for key,value in departing.items():\n",
    "    _labels = [key]\n",
    "    _labels.extend(value)\n",
    "    \n",
    "    _flows = [1]\n",
    "    _orientations = [0]\n",
    "    _pathlengths = [0.25]\n",
    "    sum = 0\n",
    "    for i in range(len(value)):\n",
    "        _flows.append(-0.1)\n",
    "        _orientations.append(-1)\n",
    "        _pathlengths.append((i+1)/10)\n",
    "        sum += -0.1\n",
    "    if key in incoming:\n",
    "        for x in range(len(incoming[key])):\n",
    "            _flows.append(0.1)\n",
    "            _orientations.append(1)\n",
    "            _pathlengths.append((x+1)/4)\n",
    "            sum += 0.1\n",
    "        _labels.extend(incoming[key])\n",
    "    _flows.append(-1 - sum)\n",
    "    _orientations.append(0)\n",
    "    _pathlengths.append(0.25)\n",
    "    _labels.append(key)\n",
    "    \n",
    "    Sankey(flows= _flows,\n",
    "           labels= _labels,\n",
    "           orientations=_orientations,\n",
    "           pathlengths = _pathlengths,\n",
    "           facecolor= colors[key],\n",
    "           scale=1).finish()\n",
    "    plt.title(key)\n",
    "\n"
   ]
  },
  {
   "cell_type": "markdown",
   "metadata": {
    "pycharm": {
     "name": "#%% md\n"
    }
   },
   "source": [
    "#  Ne/shoda jednotlivých stran\n",
    "\n",
    " *  Grafické znázornění shody a neshody jednotlivých stran. Čím tmavší políčko, tím větší neshoda. V potaz se berou pouze hlasy: Ano a Ne. Zdržení/remíza/absence celé strany na hlasování nemá vliv na data. Nezařazení poslanci nejsou zahrnuti"
   ]
  },
  {
   "cell_type": "code",
   "execution_count": null,
   "metadata": {
    "pycharm": {
     "name": "#%%\n"
    }
   },
   "outputs": [],
   "source": [
    "data4 = pd.read_csv('data.csv')\n",
    "parties = {'ANO' , 'Piráti', 'ODS', 'ČSSD', 'SPD', 'KSČM', 'STAN', 'TOP09', 'KDU-ČSL'}\n",
    "num_rows = data4.shape[0]\n",
    "votings = num_rows//200\n",
    "\n",
    "cor_matrix = dict()\n",
    "for party in parties:\n",
    "    cor_matrix[party] = {}\n",
    "    for party2 in parties:            \n",
    "        cor_matrix[party][party2] = 0"
   ]
  },
  {
   "cell_type": "code",
   "execution_count": null,
   "metadata": {
    "pycharm": {
     "name": "#%%\n"
    }
   },
   "outputs": [],
   "source": [
    "for i in range(votings):\n",
    "    voting = data4[0 + i* 200:200 + i* 200]\n",
    "    #print(voting)\n",
    "    results = voting[(voting['voting'] == 'N') | (voting['voting'] == 'A')]\n",
    "    groupedResults = results.groupby(['party','voting']).count().sort_values('name',ascending= False)\n",
    "\n",
    "    #print(groupedResults)\n",
    "\n",
    "\n",
    "    yes = set()\n",
    "    no = set()\n",
    "\n",
    "\n",
    "    for row in groupedResults.iterrows():\n",
    "        key = row[0]\n",
    "        if(key[0] not in yes) and (key[0] not in no) and (key[0] in parties):\n",
    "            if key[1] == 'A':\n",
    "                yes.add(key[0])\n",
    "            else:\n",
    "                no.add(key[0])\n",
    "\n",
    "    for party in yes:\n",
    "        for party2 in yes:\n",
    "            cor_matrix[party][party2] += 1/votings\n",
    "    for party in no:\n",
    "        for party2 in no:\n",
    "            cor_matrix[party][party2] += 1/votings\n",
    "\n"
   ]
  },
  {
   "cell_type": "code",
   "execution_count": null,
   "metadata": {
    "pycharm": {
     "name": "#%%\n"
    }
   },
   "outputs": [],
   "source": [
    "df = pd.DataFrame(cor_matrix)\n",
    "plt.figure(figsize=(14,12))\n",
    "sns.heatmap(df)"
   ]
  },
  {
   "cell_type": "markdown",
   "metadata": {
    "pycharm": {
     "name": "#%% md\n"
    }
   },
   "source": [
    "#  Jednotnost poslanců ve stranách\n",
    "\n",
    " *  Graf znázorňuje jednotnost hlasování poslanců ve stranách\n",
    " *  Čím větší hodnota(value) tím větší \"rebelismus\"\n",
    " *  Čím více koncentrované body každé strany, tím více je strana jednotnější. "
   ]
  },
  {
   "cell_type": "code",
   "execution_count": null,
   "metadata": {
    "pycharm": {
     "name": "#%%\n"
    }
   },
   "outputs": [],
   "source": [
    "data5 = pd.read_csv('data.csv')\n",
    "parties = {'ANO' , 'Piráti', 'ODS', 'ČSSD', 'SPD', 'KSČM', 'STAN', 'TOP09', 'KDU-ČSL'}\n",
    "num_rows = data5.shape[0]\n",
    "votings = num_rows//200\n",
    "rebels = dict()"
   ]
  },
  {
   "cell_type": "code",
   "execution_count": null,
   "metadata": {
    "pycharm": {
     "name": "#%%\n"
    }
   },
   "outputs": [],
   "source": [
    "for i in range(votings):\n",
    "    voting = data5[0 + i* 200:200 + i* 200]\n",
    "    #print(voting)\n",
    "    results = voting[(voting['voting'] != 'M') & (voting['voting'] != '0')]\n",
    "    groupedResults = results.groupby(['party','voting']).count().sort_values('name',ascending= False)\n",
    "\n",
    "    #print(groupedResults)\n",
    "\n",
    "\n",
    "    most = dict()\n",
    "    for row in groupedResults.iterrows():\n",
    "        key = row[0]\n",
    "        if key[0] not in most:\n",
    "            most[key[0]] = key[1]\n",
    "\n",
    "\n",
    "\n",
    "    for row in voting.iterrows():\n",
    "        party = row[1]['party']\n",
    "        vote = row[1]['voting']\n",
    "        name = re.split('\\(',re.sub(\"\\xa0\", \" \",row[1]['name']))[0]\n",
    "        if (vote != 'Z') and (vote != 'M')  and (vote != '0') and (party in parties):\n",
    "            if (name,party) not in rebels:\n",
    "                rebels[(name,party)] = 0\n",
    "            if most[party] != vote:\n",
    "                rebels[(name,party)] += 1/votings;\n",
    "                \n",
    "#print(rebels)\n",
    "\n",
    "            "
   ]
  },
  {
   "cell_type": "code",
   "execution_count": null,
   "metadata": {
    "pycharm": {
     "name": "#%%\n"
    }
   },
   "outputs": [],
   "source": [
    "data = list()\n",
    "for key,value in rebels.items():\n",
    "    data.append((key[0],key[1],value))\n",
    "#print(data)\n",
    "\n",
    "df2 = pd.DataFrame(data = data, columns = ['name','party','value'])\n",
    "df2.head()\n",
    "plt.figure(figsize=(12,4))\n",
    "sns.stripplot(x=\"party\", y=\"value\", data=df2, jitter=True)"
   ]
  },
  {
   "cell_type": "code",
   "execution_count": null,
   "metadata": {
    "pycharm": {
     "name": "#%%\n"
    }
   },
   "outputs": [],
   "source": [
    "df3 = df2.sort_values('value',ascending= False)\n",
    "print(df3)"
   ]
  },
  {
   "cell_type": "markdown",
   "metadata": {
    "pycharm": {
     "name": "#%% md\n"
    }
   },
   "source": [
    "#  Bonus: vizualizace pro zajímavá hlasování:\n",
    "\n",
    " *  Ne/shoda jednotlivých stran\n",
    " *  Jednotnost poslanců ve stranách"
   ]
  },
  {
   "cell_type": "code",
   "execution_count": null,
   "metadata": {
    "pycharm": {
     "name": "#%%\n"
    }
   },
   "outputs": [],
   "source": [
    "int_data = pd.read_csv('data.csv')\n",
    "int_data = int_data.dropna()\n",
    "num_rows = int_data.shape[0]\n",
    "\n",
    "pattern= 'výbor|schůze|Pořad |Inf.|Náv.|Návrh'\n",
    "indexes_to_drop = list()\n",
    "for row in int_data.iterrows():\n",
    "    if(re.search(pattern,row[1][2]) != None):\n",
    "        indexes_to_drop.append( row[0])\n",
    "        \n",
    "\n",
    "int_data = int_data.drop(indexes_to_drop)\n",
    "int_data.head(403)\n"
   ]
  },
  {
   "cell_type": "code",
   "execution_count": null,
   "metadata": {
    "pycharm": {
     "name": "#%%\n"
    }
   },
   "outputs": [],
   "source": [
    "parties = {'ANO' , 'Piráti', 'ODS', 'ČSSD', 'SPD', 'KSČM', 'STAN', 'TOP09', 'KDU-ČSL'}\n",
    "num_rows = int_data.shape[0]\n",
    "votings = num_rows//200\n",
    "\n",
    "cor_matrix = dict()\n",
    "for party in parties:\n",
    "    cor_matrix[party] = {}\n",
    "    for party2 in parties:            \n",
    "        cor_matrix[party][party2] = 0"
   ]
  },
  {
   "cell_type": "code",
   "execution_count": null,
   "metadata": {
    "pycharm": {
     "name": "#%%\n"
    }
   },
   "outputs": [],
   "source": [
    "for i in range(votings):\n",
    "    voting = int_data[0 + i* 200:200 + i* 200]\n",
    "    #print(voting)\n",
    "    results = voting[(voting['voting'] == 'N') | (voting['voting'] == 'A')]\n",
    "    groupedResults = results.groupby(['party','voting']).count().sort_values('name',ascending= False)\n",
    "\n",
    "    #print(groupedResults)\n",
    "\n",
    "\n",
    "    yes = set()\n",
    "    no = set()\n",
    "\n",
    "\n",
    "    for row in groupedResults.iterrows():\n",
    "        key = row[0]\n",
    "        if(key[0] not in yes) and (key[0] not in no) and (key[0] in parties):\n",
    "            if key[1] == 'A':\n",
    "                yes.add(key[0])\n",
    "            else:\n",
    "                no.add(key[0])\n",
    "\n",
    "    for party in yes:\n",
    "        for party2 in yes:\n",
    "            cor_matrix[party][party2] += 1/votings\n",
    "    for party in no:\n",
    "        for party2 in no:\n",
    "            cor_matrix[party][party2] += 1/votings\n"
   ]
  },
  {
   "cell_type": "code",
   "execution_count": null,
   "metadata": {
    "pycharm": {
     "name": "#%%\n"
    }
   },
   "outputs": [],
   "source": [
    "df = pd.DataFrame(cor_matrix)\n",
    "plt.figure(figsize=(14,12))\n",
    "sns.heatmap(df)"
   ]
  },
  {
   "cell_type": "markdown",
   "metadata": {
    "pycharm": {
     "name": "#%% md\n"
    }
   },
   "source": [
    " *  Jednotnost poslanců ve stranách"
   ]
  },
  {
   "cell_type": "code",
   "execution_count": null,
   "metadata": {
    "pycharm": {
     "name": "#%%\n"
    }
   },
   "outputs": [],
   "source": [
    "parties = {'ANO' , 'Piráti', 'ODS', 'ČSSD', 'SPD', 'KSČM', 'STAN', 'TOP09', 'KDU-ČSL'}\n",
    "num_rows = data5.shape[0]\n",
    "votings = num_rows//200\n",
    "rebels = dict()"
   ]
  },
  {
   "cell_type": "code",
   "execution_count": null,
   "metadata": {
    "pycharm": {
     "name": "#%%\n"
    }
   },
   "outputs": [],
   "source": [
    "for i in range(votings):\n",
    "    voting = data5[0 + i* 200:200 + i* 200]\n",
    "    #print(voting)\n",
    "    results = voting[(voting['voting'] != 'M') & (voting['voting'] != '0')]\n",
    "    groupedResults = results.groupby(['party','voting']).count().sort_values('name',ascending= False)\n",
    "\n",
    "    #print(groupedResults)\n",
    "\n",
    "\n",
    "    most = dict()\n",
    "    for row in groupedResults.iterrows():\n",
    "        key = row[0]\n",
    "        if key[0] not in most:\n",
    "            most[key[0]] = key[1]\n",
    "\n",
    "\n",
    "\n",
    "    for row in voting.iterrows():\n",
    "        party = row[1]['party']\n",
    "        vote = row[1]['voting']\n",
    "        name = re.split('\\(',re.sub(\"\\xa0\", \" \",row[1]['name']))[0]\n",
    "        if (vote != 'Z') and (vote != 'M')  and (vote != '0') and (party in parties):\n",
    "            if (name,party) not in rebels:\n",
    "                rebels[(name,party)] = 0\n",
    "            if most[party] != vote:\n",
    "                rebels[(name,party)] += 1/votings;\n",
    "                \n",
    "#print(rebels)\n"
   ]
  },
  {
   "cell_type": "code",
   "execution_count": null,
   "metadata": {
    "pycharm": {
     "name": "#%%\n"
    }
   },
   "outputs": [],
   "source": [
    "data = list()\n",
    "for key,value in rebels.items():\n",
    "    data.append((key[0],key[1],value))\n",
    "#print(data)\n",
    "\n",
    "df2 = pd.DataFrame(data = data, columns = ['name','party','value'])\n",
    "df2.head()\n",
    "plt.figure(figsize=(12,4))\n",
    "sns.stripplot(x=\"party\", y=\"value\", data=df2, jitter=True)"
   ]
  },
  {
   "cell_type": "code",
   "execution_count": null,
   "metadata": {
    "pycharm": {
     "name": "#%%\n"
    }
   },
   "outputs": [],
   "source": []
  }
 ],
 "metadata": {
  "kernelspec": {
   "display_name": "Python 3 (ipykernel)",
   "language": "python",
   "name": "python3"
  },
  "language_info": {
   "codemirror_mode": {
    "name": "ipython",
    "version": 3
   },
   "file_extension": ".py",
   "mimetype": "text/x-python",
   "name": "python",
   "nbconvert_exporter": "python",
   "pygments_lexer": "ipython3",
   "version": "3.9.10"
  }
 },
 "nbformat": 4,
 "nbformat_minor": 4
}